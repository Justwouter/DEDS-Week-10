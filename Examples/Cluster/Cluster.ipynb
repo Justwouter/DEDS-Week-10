{
 "cells": [
  {
   "attachments": {},
   "cell_type": "markdown",
   "metadata": {},
   "source": [
    "Idea!\n",
    "Icons zijn de retailers\n",
    "Orderd by producten die ze verkopen (maybe productcategoriesn getallen toeweizen?)\n",
    "Groepen gemaakt op Retailer categorie"
   ]
  },
  {
   "attachments": {},
   "cell_type": "markdown",
   "metadata": {},
   "source": [
    "Imports"
   ]
  },
  {
   "cell_type": "code",
   "execution_count": null,
   "metadata": {},
   "outputs": [],
   "source": [
    "import numpy as np\n",
    "import pandas as pd\n",
    "import seaborn as sns\n",
    "import pyodbc\n",
    "import sqlite3\n",
    "import random\n",
    "import matplotlib.pyplot as plt\n",
    "from sklearn.cluster import KMeans\n",
    "from sklearn.discriminant_analysis import StandardScaler\n",
    "\n"
   ]
  },
  {
   "attachments": {},
   "cell_type": "markdown",
   "metadata": {},
   "source": [
    "Gather data"
   ]
  },
  {
   "cell_type": "code",
   "execution_count": null,
   "metadata": {},
   "outputs": [],
   "source": [
    "def getDbAsDF(conn: sqlite3.Connection, sql: str):\n",
    "    cursor = conn.cursor()\n",
    "    cursor.execute(sql)\n",
    "    data = cursor.fetchall()\n",
    "\n",
    "    columns = [column[0] for column in cursor.description]\n",
    "\n",
    "    formatted_data = {}\n",
    "\n",
    "    for i in range(len(columns)):\n",
    "        dataList = []\n",
    "        for j in data:\n",
    "            dataList.append(j[i])\n",
    "        formatted_data[columns[i]] = dataList\n",
    "\n",
    "    df = pd.DataFrame(data=formatted_data, columns=columns)\n",
    "    return df\n",
    "\n",
    "\n",
    "# Connect to SQLite database\n",
    "connection = sqlite3.connect(r'..\\..\\Data\\merged.sqlite')\n",
    "\n",
    "SQL = r\"\"\"\n",
    "SELECT *\n",
    "FROM order_header as OH\n",
    "INNER JOIN retailer as RT ON OH.RETAILER_NAME = RT.COMPANY_NAME\n",
    "INNER JOIN sales_demographic as SD on RT.RETAILER_CODEMR = SD.RETAILER_CODEMR\n",
    "INNER JOIN order_details as OD ON OH.ORDER_NUMBER = OD.ORDER_NUMBER\n",
    "INNER JOIN product as P ON P.PRODUCT_NUMBER = OD.PRODUCT_NUMBER\n",
    "INNER JOIN product_type as PT ON PT.PRODUCT_TYPE_CODE = P.PRODUCT_TYPE_CODE\n",
    "\"\"\"\n",
    "\n",
    "DF = getDbAsDF(connection, SQL)\n",
    "print(DF.columns)\n",
    "\n",
    "DF[[\"UNIT_PRICE\"]] = DF[[\"UNIT_PRICE\"]].astype(float)\n",
    "DF[[\"QUANTITY\"]] = DF[[\"QUANTITY\"]].astype(int)\n",
    "DF[[\"PRODUCTION_COST\"]] = DF[[\"PRODUCTION_COST\"]].astype(float)\n",
    "DF"
   ]
  },
  {
   "attachments": {},
   "cell_type": "markdown",
   "metadata": {},
   "source": [
    "Selecting Data"
   ]
  },
  {
   "cell_type": "code",
   "execution_count": null,
   "metadata": {},
   "outputs": [],
   "source": [
    "Retailers = DF[\"RETAILER_CODE\"].unique()\n",
    "dataset = pd.DataFrame(columns=[\"Quantity\",\"Totaalprijs\",\"Retailer\"])\n",
    "for number in Retailers:\n",
    "    quantity = 0\n",
    "    price = 0\n",
    "    list1 = []\n",
    "    list2 = []\n",
    "    list3 = []\n",
    "    FoundRows = DF.loc[DF['RETAILER_CODE'] == number]\n",
    "    #Yes this works, no I cannot wrap my head arround dataframes.\n",
    "    for row in FoundRows[\"QUANTITY\"]:\n",
    "        quantity += row\n",
    "        list1.append(row)\n",
    "    for row in FoundRows[\"UNIT_PRICE\"]:\n",
    "        list2.append(row)\n",
    "    for row in FoundRows[\"PRODUCTION_COST\"]:\n",
    "        list3.append(row)\n",
    "    for i in range(len(list1)):\n",
    "        price+=list1[i]*(list2[i]-list3[i])\n",
    "\n",
    "    dataset.loc[len(dataset)] = {\"Retailer\":number,\"Quantity\":quantity,\"Totaalprijs\":price}\n",
    "\n",
    "print(dataset.sort_values(by=['Totaalprijs'], ascending=False))\n",
    "\n",
    "\n",
    "# Data = DF[[\"RETAILER_CODE\",\"UNIT_PRICE\",\"QUANTITY\",\"AGE_GROUP_CODE\"]]\n",
    "\n",
    "# Data = Data.T.drop_duplicates().T\n",
    "# Data.dropna(inplace = True)\n",
    "\n",
    "scaler = StandardScaler()\n",
    "scaled_features = scaler.fit_transform(dataset)\n",
    "scaled_features"
   ]
  },
  {
   "attachments": {},
   "cell_type": "markdown",
   "metadata": {},
   "source": [
    "Clustering"
   ]
  },
  {
   "cell_type": "code",
   "execution_count": null,
   "metadata": {},
   "outputs": [],
   "source": [
    "\n",
    "kmeans = KMeans(n_clusters=6, init='random',\n",
    "        n_init=10, max_iter=300,\n",
    "        tol=1e-04, random_state=0)\n",
    "\n",
    "y_km = kmeans.fit(dataset)\n",
    "cluster_labels = kmeans.labels_\n",
    "\n",
    "plt.scatter(scaled_features[:,0], scaled_features[:,1], c=cluster_labels)\n",
    "plt.xlabel('Quantity')\n",
    "plt.ylabel('Price')\n",
    "plt.title('Clustering Analysis')\n",
    "plt.grid\n",
    "plt.legend()\n",
    "plt.show()"
   ]
  },
  {
   "attachments": {},
   "cell_type": "markdown",
   "metadata": {},
   "source": [
    "Calculate distortion"
   ]
  },
  {
   "cell_type": "code",
   "execution_count": null,
   "metadata": {},
   "outputs": [],
   "source": [
    "# calculate distortion for a range of number of cluster\n",
    "distortions = []\n",
    "for i in range(1, 11):\n",
    "    km = KMeans(\n",
    "        n_clusters=i, init='random',\n",
    "        n_init=10, max_iter=300,\n",
    "        tol=1e-04, random_state=0\n",
    "    )\n",
    "    km.fit(scaled_features)\n",
    "    distortions.append(km.inertia_)\n",
    "\n",
    "# plot\n",
    "plt.plot(range(1, 11), distortions, marker='o')\n",
    "plt.xlabel('Number of clusters')\n",
    "plt.ylabel('Distortion')\n",
    "plt.show()"
   ]
  }
 ],
 "metadata": {
  "kernelspec": {
   "display_name": ".venv",
   "language": "python",
   "name": "python3"
  },
  "language_info": {
   "codemirror_mode": {
    "name": "ipython",
    "version": 3
   },
   "file_extension": ".py",
   "mimetype": "text/x-python",
   "name": "python",
   "nbconvert_exporter": "python",
   "pygments_lexer": "ipython3",
   "version": "3.10.8"
  },
  "orig_nbformat": 4
 },
 "nbformat": 4,
 "nbformat_minor": 2
}
