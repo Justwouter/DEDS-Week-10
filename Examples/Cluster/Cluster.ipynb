{
 "cells": [
  {
   "attachments": {},
   "cell_type": "markdown",
   "metadata": {},
   "source": [
    "Imports"
   ]
  },
  {
   "cell_type": "code",
   "execution_count": null,
   "metadata": {},
   "outputs": [],
   "source": [
    "import numpy as np\n",
    "import pandas as pd\n",
    "import seaborn as sns\n",
    "import pyodbc\n",
    "import sqlite3\n",
    "import random\n",
    "import matplotlib.pyplot as plt\n",
    "from sklearn.cluster import KMeans\n"
   ]
  },
  {
   "attachments": {},
   "cell_type": "markdown",
   "metadata": {},
   "source": [
    "Gather data"
   ]
  },
  {
   "cell_type": "code",
   "execution_count": null,
   "metadata": {},
   "outputs": [],
   "source": [
    "def getDbAsDF(conn: sqlite3.Connection, sql: str):\n",
    "    cursor = conn.cursor()\n",
    "    cursor.execute(sql)\n",
    "    data = cursor.fetchall()\n",
    "\n",
    "    columns = [column[0] for column in cursor.description]\n",
    "\n",
    "    formatted_data = {}\n",
    "\n",
    "    for i in range(len(columns)):\n",
    "        dataList = []\n",
    "        for j in data:\n",
    "            dataList.append(j[i])\n",
    "        formatted_data[columns[i]] = dataList\n",
    "\n",
    "    df = pd.DataFrame(data=formatted_data, columns=columns)\n",
    "    return df\n",
    "\n",
    "\n",
    "# Connect to SQLite database\n",
    "connection = sqlite3.connect(r'..\\..\\Data\\merged.sqlite')\n",
    "\n",
    "SQL = r\"\"\"\n",
    "SELECT *\n",
    "FROM order_header as OH\n",
    "INNER JOIN retailer as RT ON OH.RETAILER_NAME = RT.COMPANY_NAME\n",
    "INNER JOIN sales_demographic as SD on RT.RETAILER_CODEMR = SD.RETAILER_CODEMR\n",
    "INNER JOIN order_details as OD ON OH.ORDER_NUMBER = OD.ORDER_NUMBER\n",
    "INNER JOIN product as P ON P.PRODUCT_NUMBER = OD.PRODUCT_NUMBER\n",
    "INNER JOIN product_type as PT ON PT.PRODUCT_TYPE_CODE = P.PRODUCT_TYPE_CODE\n",
    "\"\"\"\n",
    "\n",
    "DF = getDbAsDF(connection, SQL)\n",
    "print(DF.columns)\n",
    "\n",
    "DF[[\"UNIT_PRICE\"]] = DF[[\"UNIT_PRICE\"]].astype(float)\n",
    "DF[[\"QUANTITY\"]] = DF[[\"QUANTITY\"]].astype(int)\n",
    "DF"
   ]
  },
  {
   "attachments": {},
   "cell_type": "markdown",
   "metadata": {},
   "source": [
    "Selecting Data"
   ]
  },
  {
   "cell_type": "code",
   "execution_count": null,
   "metadata": {},
   "outputs": [],
   "source": [
    "Data = DF[[\"RETAILER_CODE\",\"UNIT_PRICE\",\"QUANTITY\",\"AGE_GROUP_CODE\"]]\n",
    "\n",
    "Data = Data.T.drop_duplicates().T\n",
    "Data.dropna(inplace = True)\n",
    "Data"
   ]
  },
  {
   "attachments": {},
   "cell_type": "markdown",
   "metadata": {},
   "source": [
    "Clustering"
   ]
  },
  {
   "cell_type": "code",
   "execution_count": null,
   "metadata": {},
   "outputs": [],
   "source": [
    "\n",
    "\n",
    "kmeans = KMeans(n_clusters=4,init='random',\n",
    "    n_init=10, max_iter=300, \n",
    "    tol=1e-04, random_state=0)\n",
    "\n",
    "y_km = kmeans.fit(Data)\n",
    "\n",
    "\n",
    "# Plot the data points and cluster centers\n",
    "for company in (np.unique(np.concatenate(DF['COMPANY_NAME'].str.split(';\\s*').values))):\n",
    "    plt.scatter(\n",
    "        Data[\"UNIT_PRICE\"], Data[\"AGE_GROUP_CODE\"],\n",
    "        s=50, c=[random.random(),random.random(),random.random()],\n",
    "        marker='v', edgecolor='black',\n",
    "        label=company\n",
    "    )\n",
    "plt.title('K-means Clustering')\n",
    "plt.scatter(\n",
    "    kmeans.cluster_centers_[:, 0], kmeans.cluster_centers_[:, 1],\n",
    "    s=250, marker='*',\n",
    "    c='red', edgecolor='black',\n",
    "    label='centroids'\n",
    ")\n",
    "\n",
    "\n",
    "plt.legend(scatterpoints=1)\n",
    "plt.grid()\n",
    "plt.show()"
   ]
  }
 ],
 "metadata": {
  "kernelspec": {
   "display_name": ".venv",
   "language": "python",
   "name": "python3"
  },
  "language_info": {
   "codemirror_mode": {
    "name": "ipython",
    "version": 3
   },
   "file_extension": ".py",
   "mimetype": "text/x-python",
   "name": "python",
   "nbconvert_exporter": "python",
   "pygments_lexer": "ipython3",
   "version": "3.10.8"
  },
  "orig_nbformat": 4
 },
 "nbformat": 4,
 "nbformat_minor": 2
}
