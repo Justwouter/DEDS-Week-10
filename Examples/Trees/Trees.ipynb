{
 "cells": [
  {
   "attachments": {},
   "cell_type": "markdown",
   "metadata": {},
   "source": [
    "# Sources"
   ]
  },
  {
   "attachments": {},
   "cell_type": "markdown",
   "metadata": {},
   "source": [
    "1. https://scikit-learn.org/stable/index.html\n",
    "2. https://scikit-learn.org/stable/modules/tree.html\n",
    "3. https://www.simplilearn.com/tutorials/scikit-learn-tutorial/sklearn-decision-trees\n",
    "4. https://scikit-learn.org/stable/modules/ensemble.html#random-forests\n",
    "5. https://scikit-learn.org/stable/modules/linear_model.html "
   ]
  },
  {
   "attachments": {},
   "cell_type": "markdown",
   "metadata": {},
   "source": [
    "# Decision Tree"
   ]
  },
  {
   "attachments": {},
   "cell_type": "markdown",
   "metadata": {},
   "source": [
    "##### Importing the Dataset"
   ]
  },
  {
   "cell_type": "code",
   "execution_count": null,
   "metadata": {},
   "outputs": [],
   "source": [
    "import pandas as pd\n",
    "import numpy as np\n",
    "import seaborn as sns\n",
    "import pyodbc\n",
    "import matplotlib.pyplot as plt\n",
    "from sklearn import tree\n",
    "from sklearn import metrics\n",
    "from sklearn.datasets import load_iris\n",
    "from sklearn.tree import export_text, DecisionTreeClassifier\n",
    "from sklearn.model_selection import train_test_split\n",
    "\n",
    "\n",
    "\n",
    "\n",
    "conn = pyodbc.connect(r'Driver={Microsoft Access Driver (*.mdb, *.accdb)};DBQ=..\\..\\Data\\go_sales_schoon.accdb;')\n",
    "#WHY THE FUCK DOES ACCESS REQUIRE BRACKETS FOR MORE THAN ONE JOIN AND WHY DIT IT TAKE SO LONG FOR ME TO FIND THIS INFO REEEEEEEEEEEEEEEEEEEEE\n",
    "sql = \"\"\"\n",
    "SELECT *\n",
    "FROM (((((returned_item\n",
    "INNER JOIN return_reason\n",
    "ON returned_item.RETURN_REASON_CODE = return_reason.RETURN_REASON_CODE)\n",
    "INNER JOIN order_details\n",
    "ON returned_item.ORDER_DETAIL_CODE = order_details.ORDER_DETAIL_CODE)\n",
    "INNER JOIN order_header\n",
    "ON order_header.ORDER_NUMBER = order_details.ORDER_NUMBER)\n",
    "INNER JOIN sales_sales_branch\n",
    "ON sales_sales_branch.SALES_BRANCH_CODE = order_header.SALES_BRANCH_CODE)\n",
    "INNER JOIN product\n",
    "ON product.PRODUCT_NUMBER = order_details.PRODUCT_NUMBER)\n",
    "INNER JOIN product_type\n",
    "ON product_type.PRODUCT_TYPE_CODE = product.PRODUCT_TYPE_CODE\n",
    "\"\"\"\n",
    "cursor = conn.cursor()\n",
    "cursor.execute(sql)\n",
    "data = cursor.fetchall()\n",
    "\n",
    "columns = [column[0] for column in cursor.description]\n",
    "\n",
    "formatted_data = {}\n",
    "\n",
    "for i in range(len(columns)):\n",
    "    dataList = []\n",
    "    for j in data:\n",
    "        dataList.append(j[i])\n",
    "    formatted_data[columns[i]] = dataList\n",
    "\n",
    "df = pd.DataFrame(data=formatted_data,columns=columns)\n",
    "df"
   ]
  },
  {
   "attachments": {},
   "cell_type": "markdown",
   "metadata": {},
   "source": [
    "##### Extracting Datasets"
   ]
  },
  {
   "cell_type": "code",
   "execution_count": null,
   "metadata": {},
   "outputs": [],
   "source": [
    "x = df.drop(columns=[\"RETURN_DESCRIPTION_EN\",\"RETURN_DATE\",\"ORDER_DETAIL_CODE\",\"RETURN_CODE\",\"ORDER_NUMBER\",\"ORDER_DATE\"\n",
    "                     ,\"ADDRESS1\",\"ADDRESS2\",\"REGION\",\"RETAILER_NAME\",\"CITY\",\"POSTAL_ZONE\",\"PRODUCT_NAME\",\"PRODUCT_IMAGE\",\n",
    "                     \"LANGUAGE\",\"PRODUCTION_COST\",\"PRODUCT_TYPE_EN\",\"DESCRIPTION\",\"INTRODUCTION_DATE\",\"RETURN_REASON_CODE\"]) #Bit cheaty \n",
    "\n",
    "y = df[\"RETURN_DESCRIPTION_EN\"]\n",
    "\n",
    "feature_names = x.columns\n",
    "labels = y.unique()\n",
    "X_train, X_test, y_train, y_test = train_test_split(x, y,test_size=0.4, random_state=42)\n",
    "x"
   ]
  },
  {
   "attachments": {},
   "cell_type": "markdown",
   "metadata": {},
   "source": [
    "The max depth argument controls the tree's maximum depth. We use this to ensure that no overfitting is done and that we can simply see how the final result was obtained. The random state parameter assures that the results are repeatable in subsequent investigations."
   ]
  },
  {
   "attachments": {},
   "cell_type": "markdown",
   "metadata": {},
   "source": [
    "##### Fitting Algorithm to Training Data"
   ]
  },
  {
   "cell_type": "code",
   "execution_count": null,
   "metadata": {},
   "outputs": [],
   "source": [
    "clf = DecisionTreeClassifier(max_depth = 100, random_state = 42)\n",
    "clf.fit(X_train, y_train)"
   ]
  },
  {
   "attachments": {},
   "cell_type": "markdown",
   "metadata": {},
   "source": [
    "##### Checking the Algorithms"
   ]
  },
  {
   "attachments": {},
   "cell_type": "markdown",
   "metadata": {},
   "source": [
    "##### 1. Tree diagram"
   ]
  },
  {
   "cell_type": "code",
   "execution_count": null,
   "metadata": {},
   "outputs": [],
   "source": [
    "plt.figure(figsize=(50,50), facecolor ='k')\n",
    "a = tree.plot_tree(clf, feature_names = feature_names, class_names = labels, rounded = True, filled = True, fontsize=14)\n",
    "plt.show()"
   ]
  },
  {
   "attachments": {},
   "cell_type": "markdown",
   "metadata": {},
   "source": [
    "##### 2. As a Text-Based Diagram"
   ]
  },
  {
   "cell_type": "code",
   "execution_count": null,
   "metadata": {},
   "outputs": [],
   "source": [
    "tree_rules = export_text(clf, feature_names = list(feature_names))\n",
    "print(tree_rules)"
   ]
  },
  {
   "attachments": {},
   "cell_type": "markdown",
   "metadata": {},
   "source": [
    "##### Make and format a confusion matrix"
   ]
  },
  {
   "cell_type": "code",
   "execution_count": null,
   "metadata": {},
   "outputs": [],
   "source": [
    "test_pred_decision_tree = clf.predict(X_test)\n",
    "\n",
    "# Make this template a function for reusability\n",
    "def generateConfusionMatrix(y_test, y_pred):\n",
    "    cm = metrics.confusion_matrix(y_test, y_pred)\n",
    "    matrix_df = pd.DataFrame(cm)\n",
    "    ax = plt.axes()\n",
    "\n",
    "    sns.set(font_scale=1.3)\n",
    "    plt.figure(figsize=(10,7))\n",
    "    sns.heatmap(matrix_df, annot=True, fmt=\"g\", ax=ax, cmap=\"magma\")\n",
    "    ax.set_title('Confusion Matrix - Decision Tree')\n",
    "    ax.set_xlabel(\"Predicted label\", fontsize =15)\n",
    "    ax.set_xticklabels(['']+labels, rotation = 90)\n",
    "    ax.set_ylabel(\"True Label\", fontsize=15)\n",
    "    ax.set_yticklabels(list(labels), rotation = 0)\n",
    "\n",
    "    plt.show()\n",
    "    \n",
    "\n",
    "generateConfusionMatrix(y_test, test_pred_decision_tree)"
   ]
  },
  {
   "attachments": {},
   "cell_type": "markdown",
   "metadata": {},
   "source": [
    "# Random Forest"
   ]
  },
  {
   "attachments": {},
   "cell_type": "markdown",
   "metadata": {},
   "source": [
    "##### Import additional libraries and required data"
   ]
  },
  {
   "cell_type": "code",
   "execution_count": null,
   "metadata": {},
   "outputs": [],
   "source": [
    "from sklearn.ensemble import RandomForestClassifier\n",
    "from sklearn.metrics import accuracy_score, precision_score, recall_score"
   ]
  },
  {
   "cell_type": "code",
   "execution_count": null,
   "metadata": {},
   "outputs": [],
   "source": [
    "x = df.drop(columns=[\"RETURN_DESCRIPTION_EN\",\"RETURN_DATE\",\"ORDER_DETAIL_CODE\",\"RETURN_CODE\",\"ORDER_NUMBER\",\"ORDER_DATE\"\n",
    "                     ,\"ADDRESS1\",\"ADDRESS2\",\"REGION\",\"RETAILER_NAME\",\"CITY\",\"POSTAL_ZONE\",\"PRODUCT_NAME\",\"PRODUCT_IMAGE\",\n",
    "                     \"LANGUAGE\",\"PRODUCTION_COST\",\"PRODUCT_TYPE_EN\",\"DESCRIPTION\",\"INTRODUCTION_DATE\",\"RETURN_REASON_CODE\"]) #Bit cheaty \n",
    "\n",
    "y = df[\"RETURN_DESCRIPTION_EN\"]"
   ]
  },
  {
   "attachments": {},
   "cell_type": "markdown",
   "metadata": {},
   "source": [
    "##### Fit the model"
   ]
  },
  {
   "cell_type": "code",
   "execution_count": null,
   "metadata": {},
   "outputs": [],
   "source": [
    "clf = RandomForestClassifier(n_estimators=10)\n",
    "clf = clf.fit(x, y)"
   ]
  },
  {
   "attachments": {},
   "cell_type": "markdown",
   "metadata": {},
   "source": [
    "##### Generate Statistics"
   ]
  },
  {
   "cell_type": "code",
   "execution_count": null,
   "metadata": {},
   "outputs": [],
   "source": [
    "y_pred = clf.predict(X_test)\n",
    "\n",
    "# Reuse earlier confusion matrix code\n",
    "generateConfusionMatrix(y_test, y_pred)"
   ]
  },
  {
   "cell_type": "code",
   "execution_count": null,
   "metadata": {},
   "outputs": [],
   "source": [
    "accuracy = accuracy_score(y_test, y_pred)\n",
    "precision = precision_score(y_test, y_pred, average=\"weighted\")\n",
    "recall = recall_score(y_test, y_pred, average=\"weighted\")\n",
    "\n",
    "print(\"Accuracy:\", accuracy)\n",
    "print(\"Precision:\", precision)\n",
    "print(\"Recall:\", recall)"
   ]
  }
 ],
 "metadata": {
  "kernelspec": {
   "display_name": "Python 3",
   "language": "python",
   "name": "python3"
  },
  "language_info": {
   "codemirror_mode": {
    "name": "ipython",
    "version": 3
   },
   "file_extension": ".py",
   "mimetype": "text/x-python",
   "name": "python",
   "nbconvert_exporter": "python",
   "pygments_lexer": "ipython3",
   "version": "3.10.8"
  },
  "orig_nbformat": 4
 },
 "nbformat": 4,
 "nbformat_minor": 2
}
