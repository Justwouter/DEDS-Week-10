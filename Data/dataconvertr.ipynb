{
 "cells": [
  {
   "cell_type": "code",
   "execution_count": 27,
   "metadata": {},
   "outputs": [],
   "source": [
    "import numpy as np\n",
    "import pandas as pd\n",
    "import seaborn as sns\n",
    "import pyodbc\n",
    "import sqlite3\n",
    "import matplotlib.pyplot as plt\n",
    "from sklearn import preprocessing, svm\n",
    "from sklearn.model_selection import train_test_split\n",
    "from sklearn.metrics import mean_absolute_error, mean_squared_error\n",
    "from sklearn.linear_model import LinearRegression"
   ]
  },
  {
   "cell_type": "code",
   "execution_count": 28,
   "metadata": {},
   "outputs": [
    {
     "name": "stdout",
     "output_type": "stream",
     "text": [
      "Conversion completed successfully.\n"
     ]
    }
   ],
   "source": [
    "# slesConn = pyodbc.connect(r'Driver={Microsoft Access Driver (*.mdb, *.accdb)};DBQ=./go_sales_schoon.accdb;')\n",
    "\n",
    "import pyodbc\n",
    "import sqlite3\n",
    "\n",
    "def convert_accdb_to_sqlite(accdb_file, sqlite_file):\n",
    "    # Connect to the Access database\n",
    "    accdb_conn_str = r\"Driver={Microsoft Access Driver (*.mdb, *.accdb)};DBQ=\" + accdb_file\n",
    "    accdb_conn = pyodbc.connect(accdb_conn_str)\n",
    "    accdb_cursor = accdb_conn.cursor()\n",
    "\n",
    "    # Get the table names from the Access database\n",
    "    table_names = []\n",
    "    for row in accdb_cursor.tables():\n",
    "        if row.table_type == 'TABLE':\n",
    "            table_names.append(row.table_name)\n",
    "\n",
    "    # Connect to the SQLite database\n",
    "    sqlite_conn = sqlite3.connect(sqlite_file)\n",
    "    sqlite_cursor = sqlite_conn.cursor()\n",
    "\n",
    "    # Iterate through each table and copy the data to SQLite\n",
    "    for table_name in table_names:\n",
    "        # Retrieve the table data from Access\n",
    "        accdb_cursor.execute(f\"SELECT * FROM [{table_name}]\")\n",
    "        table_data = accdb_cursor.fetchall()\n",
    "\n",
    "        # Get the column names from Access\n",
    "        accdb_cursor.execute(f\"SELECT * FROM [{table_name}]\")\n",
    "        column_names = [column[0] for column in accdb_cursor.description]\n",
    "\n",
    "        # Create the table in SQLite without specifying column data types\n",
    "        create_table_query = f'CREATE TABLE \"{table_name}\" ' + \"(\" + \", \".join([f'\"{col}\"' for col in column_names]) + \")\"\n",
    "        sqlite_cursor.execute(create_table_query)\n",
    "\n",
    "        # Generate placeholders based on the number of columns\n",
    "        placeholders = \",\".join([\"?\" for _ in column_names])\n",
    "\n",
    "        # Insert the data into the SQLite table, converting column types if necessary\n",
    "        sqlite_cursor.executemany(f'INSERT INTO \"{table_name}\" VALUES ({placeholders})', table_data)\n",
    "\n",
    "    # Commit the changes and close the connections\n",
    "    sqlite_conn.commit()\n",
    "    sqlite_conn.close()\n",
    "    accdb_conn.close()\n",
    "\n",
    "    print(\"Conversion completed successfully.\")\n",
    "\n",
    "\n",
    "\n",
    "# Usage example\n",
    "convert_accdb_to_sqlite(\"./go_staff_schoon.accdb;\", \"staff.sqlite\")\n"
   ]
  },
  {
   "cell_type": "code",
   "execution_count": null,
   "metadata": {},
   "outputs": [],
   "source": []
  }
 ],
 "metadata": {
  "kernelspec": {
   "display_name": ".venv",
   "language": "python",
   "name": "python3"
  },
  "language_info": {
   "codemirror_mode": {
    "name": "ipython",
    "version": 3
   },
   "file_extension": ".py",
   "mimetype": "text/x-python",
   "name": "python",
   "nbconvert_exporter": "python",
   "pygments_lexer": "ipython3",
   "version": "3.10.8"
  },
  "orig_nbformat": 4
 },
 "nbformat": 4,
 "nbformat_minor": 2
}
